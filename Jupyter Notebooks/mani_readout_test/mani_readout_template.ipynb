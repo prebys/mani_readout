{
 "cells": [
  {
   "cell_type": "markdown",
   "id": "9c49fac0-1e9c-4740-a5a7-2b7ad9ebd6bf",
   "metadata": {},
   "source": [
    "# Test of readout code for LTC2324 ADC Chip\n",
    "\n",
    "The overlay contains both the readout module for the ADC and a dummy module to generate simulated data.  The interface to the LTC2324 is through PMOD with the following pinout\n",
    "- PMODA[0]: external trigger input, active HI\n",
    "- PMODA[1]: cvt output, active LOW\n",
    "- PMODA[2]: sck output\n",
    "- PMODA[3]: clkout input\n",
    "- PMODA[4]: sdo serial data input\n",
    "\n",
    "The dummy ADC connections are on PMODB with pins corresponding to the same pins on PMODA\n",
    "- PMODB[1]: dummy_cvt input\n",
    "- PMODB[2]: dummy_sck input\n",
    "- PMODB[3]: dummy_clkout output\n",
    "- PMODB[4]: dummy_sdo serial data output\n",
    "\n",
    "If PMODB pins 1-4 are jumpered to the same pins on on PMOD, then the module should read back the data written to the dummy_ADC register defined below."
   ]
  },
  {
   "cell_type": "code",
   "execution_count": 1,
   "id": "0c5218b8-b3f3-4273-b29d-4ceb537bcab8",
   "metadata": {},
   "outputs": [],
   "source": [
    "# General imports\n",
    "import ipywidgets as widgets\n",
    "import numpy as np"
   ]
  },
  {
   "cell_type": "code",
   "execution_count": 2,
   "id": "0266fb3b-d9d7-48a4-a4e3-51efd9c2d281",
   "metadata": {},
   "outputs": [],
   "source": [
    "# Because of a bug/feature of the Pynq library, this is necessary when loading updated\n",
    "# versions of the same design.\n",
    "from pynq import PL\n",
    "PL.reset()"
   ]
  },
  {
   "cell_type": "code",
   "execution_count": 4,
   "id": "595e0896-5ffe-4ada-9d18-eb16160d99b6",
   "metadata": {},
   "outputs": [],
   "source": [
    "# load the overlay\n",
    "from pynq import Overlay\n",
    "pynq = Overlay(\"mani_readout.bit\")\n",
    "# help(pynq)"
   ]
  },
  {
   "cell_type": "code",
   "execution_count": 5,
   "id": "781db8d7-3e77-431a-9257-011cacdbb0ad",
   "metadata": {},
   "outputs": [],
   "source": [
    "# Define the communication registers\n",
    "\n",
    "# Interface to LTC2324 readout module\n",
    "timing = pynq.timing   # timing control word\n",
    "                       # timing[7:4] = number of clock cyccles for cvt low before first valid bit\n",
    "                       # timing[3:0] = number of clock cycles for SCK_LO and SCK_HI\n",
    "control = pynq.control # control word\n",
    "                       # control[0] = arm\n",
    "                       # control[1] = soft trigger\n",
    "                       # control [6:2] - (not used)\n",
    "                       # control [7] - polarity of external trigger \n",
    "                       #                 0-> active HI\n",
    "                       #                 1-> active LO\n",
    "state = pynq.state     # state of readount.  There will be data ready when state==4\n",
    "# Data registers\n",
    "data = [pynq.data1,pynq.data2,pynq.data3,pynq.data4]\n",
    "\n",
    "\n",
    "# Interface to dummy data generation module\n",
    "dummy_ADC = pynq.dummy_ADC  # Dummy data for the data simulation\n"
   ]
  },
  {
   "cell_type": "markdown",
   "id": "72770748-0e25-4f7d-8fae-aa85c2f3a917",
   "metadata": {},
   "source": [
    "# Utility routines\n",
    "\n",
    "The following routines are used to convert and display ADC values"
   ]
  },
  {
   "cell_type": "code",
   "execution_count": 7,
   "id": "28deb1a9-240b-424f-b25e-9159cdb3f167",
   "metadata": {},
   "outputs": [],
   "source": [
    "# Convert a 16 bit 2s complement value to a signed python integer\n",
    "# Courtesy of ChatGPT\n",
    "def twos_complement_16bit(value):\n",
    "    if value & (1 << 15):  # check if the sign bit is set\n",
    "        return value - (1 << 16)\n",
    "    else:\n",
    "        return value"
   ]
  },
  {
   "cell_type": "code",
   "execution_count": 8,
   "id": "128e6619-78b6-47ff-8cef-28c82bfcbb82",
   "metadata": {},
   "outputs": [],
   "source": [
    "# Convert 16 bit, 2s complement ADC readout to voltage\n",
    "Vref = 2.    # range from -Vref to +Vref\n",
    "def voltage(raw):\n",
    "    return(twos_complement_16bit(raw)*Vref/2**15)"
   ]
  },
  {
   "cell_type": "code",
   "execution_count": 10,
   "id": "ec133b19-ba78-49cd-ba55-79e0570c6a3f",
   "metadata": {},
   "outputs": [],
   "source": [
    "# Print out the raw ADC values\n",
    "def print_raw():\n",
    "    print(\"Raw ADC values...\")\n",
    "    for i in range(4):\n",
    "        print(\"  Channel %d = 0x%X\"%(i,data[i].read(0)))\n"
   ]
  },
  {
   "cell_type": "code",
   "execution_count": 11,
   "id": "a56b5cc7-010f-450e-969b-f83dc1612c12",
   "metadata": {},
   "outputs": [],
   "source": [
    "# Print out the voltages\n",
    "def print_voltages():\n",
    "    print(\"ADC input voltages...\")\n",
    "    for i in range(4):\n",
    "        print(\"  Channel %d = %.4f V\"%(i,voltage(data[i].read(0))))\n"
   ]
  },
  {
   "cell_type": "code",
   "execution_count": 12,
   "id": "60bdec3f-63b3-46d5-8449-b575146728d9",
   "metadata": {},
   "outputs": [],
   "source": [
    "# This will return a string with the the voltages\n",
    "def display_string():\n",
    "    display = \"\"\n",
    "    for i in range(4):\n",
    "        display = display+\" Chan%d=%.4fV\"%(i,voltage(data[i].read(0)))\n",
    "        if i<3:\n",
    "            display = display+\",\"\n",
    "    return display\n",
    "        "
   ]
  },
  {
   "cell_type": "code",
   "execution_count": 15,
   "id": "ba1ec8bc-afc2-46ce-896f-de446510e805",
   "metadata": {},
   "outputs": [],
   "source": [
    "# This will create an ipywidgets text display to display the voltages\n",
    "import ipywidgets as widgets\n",
    "from ipywidgets import Text, Layout\n",
    "from IPython.display import display\n",
    "\n",
    "def create_voltage_display():\n",
    "    voltage_field = widgets.Text(\n",
    "        value=display_string(),\n",
    "        description='ADC Values:',layout=Layout(width='50%')\n",
    "    )\n",
    "    # Return\n",
    "    return voltage_field"
   ]
  },
  {
   "cell_type": "markdown",
   "id": "86d5ec85-3217-4bac-9ebb-362ca5c5da08",
   "metadata": {},
   "source": [
    "# Generic code follows..."
   ]
  },
  {
   "cell_type": "code",
   "execution_count": 17,
   "id": "9787d5a3-0d45-4cc6-ac22-52f7a5f58dfc",
   "metadata": {},
   "outputs": [
    {
     "data": {
      "application/vnd.jupyter.widget-view+json": {
       "model_id": "7ddb6f8db04843d7a9f1b20621d85b9f",
       "version_major": 2,
       "version_minor": 0
      },
      "text/plain": [
       "Text(value=' Chan0=0.0000V, Chan1=0.0000V, Chan2=0.0000V, Chan3=0.0000V', description='ADC Values:', layout=La…"
      ]
     },
     "metadata": {},
     "output_type": "display_data"
    }
   ],
   "source": [
    "voltage_field=create_voltage_display()\n",
    "display(voltage_field)"
   ]
  },
  {
   "cell_type": "code",
   "execution_count": 19,
   "id": "f0c1fc6f-dde5-49b4-85f7-111fcba0955e",
   "metadata": {},
   "outputs": [],
   "source": [
    "voltage_field.value=display_string()"
   ]
  },
  {
   "cell_type": "code",
   "execution_count": null,
   "id": "b65e737f-54aa-4c06-9924-4914025d163e",
   "metadata": {},
   "outputs": [],
   "source": [
    "# Initial setup\n",
    "timing.write(0,0xff)     # 80 ns for everything\n",
    "dummy_val = 0xAA55\n",
    "dummy_ADC.write(0,dummy_val)  # dummy ADC data"
   ]
  },
  {
   "cell_type": "code",
   "execution_count": null,
   "id": "5690b5cb-0b1f-439d-8189-4ea57d625701",
   "metadata": {},
   "outputs": [],
   "source": [
    "# Perform an arm, trigger, and readout\n",
    "print(\"Expect State 4 (DONE), read state =%d\"%state.read(0))       # should initially be in state 4 (DONE)\n",
    "\n",
    "# Arm\n",
    "control.write(0,1)  # arm\n",
    "print(\"Armed.    Expect State 0 (READY), read state =%d\"%state.read(0))       # should initially be in state 4 (DONE)\n",
    "\n",
    "# Trigger\n",
    "control.write(0,2)  # trigger\n",
    "print(\"Triggered Expect State 4 (DONE), read state =%d\"%state.read(0))       # should initially be in state 4 (DONE)"
   ]
  },
  {
   "cell_type": "code",
   "execution_count": null,
   "id": "e03b38f4-491a-4fb9-991a-64add0626396",
   "metadata": {
    "jupyter": {
     "source_hidden": true
    },
    "tags": []
   },
   "outputs": [],
   "source": [
    "# Print out the raw values\n",
    "def print_raw():\n",
    "    print(\"Raw ADC values...\")\n",
    "    for i in range(4):\n",
    "        print(\"  Channel %d = 0x%X\"%(i,data[i].read(0)))\n"
   ]
  },
  {
   "cell_type": "code",
   "execution_count": null,
   "id": "1ca58c36-c65f-400f-85ae-77d363be4782",
   "metadata": {},
   "outputs": [],
   "source": []
  }
 ],
 "metadata": {
  "kernelspec": {
   "display_name": "Python 3 (ipykernel)",
   "language": "python",
   "name": "python3"
  },
  "language_info": {
   "codemirror_mode": {
    "name": "ipython",
    "version": 3
   },
   "file_extension": ".py",
   "mimetype": "text/x-python",
   "name": "python",
   "nbconvert_exporter": "python",
   "pygments_lexer": "ipython3",
   "version": "3.10.4"
  }
 },
 "nbformat": 4,
 "nbformat_minor": 5
}
