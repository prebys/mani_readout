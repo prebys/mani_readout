{
 "cells": [
  {
   "cell_type": "markdown",
   "id": "9c49fac0-1e9c-4740-a5a7-2b7ad9ebd6bf",
   "metadata": {},
   "source": [
    "# Test of readout code for LTC2324 ADC Chip\n",
    "\n",
    "The overlay contains both the readout module for the ADC and a dummy module to generate simulated data.  The interface to the LTC2324 is through PMOD with the following pinout\n",
    "- PMODA[0]: external trigger input, active HI\n",
    "- PMODA[1]: cvt output, active LOW\n",
    "- PMODA[2]: sck output\n",
    "- PMODA[3]: clkout input\n",
    "- PMODA[4]: sdo serial data input\n",
    "\n",
    "The dummy ADC connections are on PMODB with pins corresponding to the same pins on PMODA\n",
    "- PMODB[1]: dummy_cvt input\n",
    "- PMODB[2]: dummy_sck input\n",
    "- PMODB[3]: dummy_clkout output\n",
    "- PMODB[4]: dummy_sdo serial data output\n",
    "\n",
    "If PMODB pins 1-4 are jumpered to the same pins on on PMOD, then the module should read back the data written to the dummy_ADC register defined below."
   ]
  },
  {
   "cell_type": "code",
   "execution_count": 1,
   "id": "0266fb3b-d9d7-48a4-a4e3-51efd9c2d281",
   "metadata": {},
   "outputs": [],
   "source": [
    "# Because of a bug/feature of the Pynq library, this is necessary when loading updated\n",
    "# versions of the same design.\n",
    "from pynq import PL\n",
    "PL.reset()"
   ]
  },
  {
   "cell_type": "code",
   "execution_count": 2,
   "id": "595e0896-5ffe-4ada-9d18-eb16160d99b6",
   "metadata": {},
   "outputs": [
    {
     "data": {
      "application/javascript": [
       "\n",
       "try {\n",
       "require(['notebook/js/codecell'], function(codecell) {\n",
       "  codecell.CodeCell.options_default.highlight_modes[\n",
       "      'magic_text/x-csrc'] = {'reg':[/^%%microblaze/]};\n",
       "  Jupyter.notebook.events.one('kernel_ready.Kernel', function(){\n",
       "      Jupyter.notebook.get_cells().map(function(cell){\n",
       "          if (cell.cell_type == 'code'){ cell.auto_highlight(); } }) ;\n",
       "  });\n",
       "});\n",
       "} catch (e) {};\n"
      ]
     },
     "metadata": {},
     "output_type": "display_data"
    },
    {
     "data": {
      "application/javascript": [
       "\n",
       "try {\n",
       "require(['notebook/js/codecell'], function(codecell) {\n",
       "  codecell.CodeCell.options_default.highlight_modes[\n",
       "      'magic_text/x-csrc'] = {'reg':[/^%%pybind11/]};\n",
       "  Jupyter.notebook.events.one('kernel_ready.Kernel', function(){\n",
       "      Jupyter.notebook.get_cells().map(function(cell){\n",
       "          if (cell.cell_type == 'code'){ cell.auto_highlight(); } }) ;\n",
       "  });\n",
       "});\n",
       "} catch (e) {};\n"
      ]
     },
     "metadata": {},
     "output_type": "display_data"
    }
   ],
   "source": [
    "# load the overlay\n",
    "from pynq import Overlay\n",
    "pynq = Overlay(\"mani_readout.bit\")\n",
    "# help(pynq)"
   ]
  },
  {
   "cell_type": "code",
   "execution_count": 3,
   "id": "781db8d7-3e77-431a-9257-011cacdbb0ad",
   "metadata": {},
   "outputs": [],
   "source": [
    "# Define the communication registers\n",
    "\n",
    "# Interface to LTC2324 readout module\n",
    "timing = pynq.timing   # timing control word\n",
    "                       # timing[7:4] = number of clock cyccles for cvt low before first valid bit\n",
    "                       # timing[3:0] = number of clock cycles for SCK_LO and SCK_HI\n",
    "control = pynq.control # control word\n",
    "                       # control[0] = arm\n",
    "                       # control[1] = soft trigger\n",
    "                       # control [6:2] - (not used)\n",
    "                       # control [7] - polarity of external trigger \n",
    "                       #                 0-> active HI\n",
    "                       #                 1-> active LO\n",
    "state = pynq.state     # state of readount.  There will be data ready when state==4\n",
    "# Data registers\n",
    "data = [pynq.data1,pynq.data2,pynq.data3,pynq.data4]\n",
    "\n",
    "\n",
    "# Interface to dummy data generation module\n",
    "dummy_ADC = pynq.dummy_ADC  # Dummy data for the data simulation\n"
   ]
  },
  {
   "cell_type": "markdown",
   "id": "cccc1292-3f05-43d5-8730-ac2eb075a740",
   "metadata": {},
   "source": [
    "# Utility routines\n",
    "\n",
    "The following routines are used to arm and wait for triggers, as well as convert and display ADC values"
   ]
  },
  {
   "cell_type": "code",
   "execution_count": 4,
   "id": "1f88ba50-218b-45f2-8404-9667de1d5bc1",
   "metadata": {
    "tags": []
   },
   "outputs": [],
   "source": [
    "# Arm the trigger\n",
    "#    trigger_parity = 0 -> triggers on positive edge\n",
    "#    trigger_parity = 1 -> triggers on negative edge\n",
    "def arm(trigger_parity=1):\n",
    "    parity_mask = trigger_parity<<7  # set bit 7 to parity\n",
    "    # Toggle the lowest order bit to arm, while maintaining the parity mask\n",
    "    control.write(0,1|parity_mask)\n",
    "    control.write(0,parity_mask)\n",
    "\n",
    "# Wait for a trigger by monitoring the state and looking for DONE (4)\n",
    "DONE_state=4\n",
    "def wait_for_DONE():\n",
    "    while (state.read(0)!=DONE_state):  # poll the state\n",
    "        pass\n",
    "    return\n",
    "\n",
    "# Convert a 16 bit 2s complement value to a signed python integer\n",
    "# Courtesy of ChatGPT\n",
    "def twos_complement_16bit(value):\n",
    "    if value & (1 << 15):  # check if the sign bit is set\n",
    "        return value - (1 << 16)\n",
    "    else:\n",
    "        return value\n",
    "\n",
    "# Convert 16 bit, 2s complement ADC readout to voltage\n",
    "Vref = 2.    # range from -Vref to +Vref\n",
    "def voltage(raw):\n",
    "    return(twos_complement_16bit(raw)*Vref/2**15)\n",
    "\n",
    "# Print out the raw ADC values\n",
    "def print_raw():\n",
    "    print(\"Raw ADC values...\")\n",
    "    for i in range(4):\n",
    "        print(\"  Channel %d = 0x%X\"%(i,data[i].read(0)))\n",
    "\n",
    "\n",
    "# Print out the voltages\n",
    "def print_voltages():\n",
    "    print(\"ADC input voltages...\")\n",
    "    for i in range(4):\n",
    "        print(\"  Channel %d = %.4f V\"%(i,voltage(data[i].read(0))))\n",
    "\n",
    "\n",
    "# This routine creates four display fields for the voltages that can be updated\n",
    "\n",
    "import ipywidgets as widgets\n",
    "from ipywidgets import Text,VBox,Layout\n",
    "from IPython.display import display\n",
    "\n",
    "def create_voltage_display():\n",
    "    # Create voltage displays as text boxes\n",
    "    voltage_fields = [Text(value=\"(uninitialized)\", description=f'Input {i}',layout=Layout(width=\"20%\")) for i in range(4)]\n",
    "    # put them into a box and display it\n",
    "    display_box = VBox(voltage_fields)\n",
    "    display(display_box)\n",
    "    \n",
    "    # Return the display fields\n",
    "    return voltage_fields\n",
    "\n",
    "# This routine will update the fields in \"voltage_fiels\" with the corrent input voltages\n",
    "def update_voltage_display():\n",
    "    for i in range(4):\n",
    "        voltage_fields[i].value = \"%.4f V\"%voltage(data[i].read(0))\n",
    "\n",
    "# Get one event and display it\n",
    "def get_event():\n",
    "    arm()                    # Arm the trigger\n",
    "    wait_for_DONE()          # wait for DONE\n",
    "    update_voltage_display()  # Display values"
   ]
  },
  {
   "cell_type": "markdown",
   "id": "86d5ec85-3217-4bac-9ebb-362ca5c5da08",
   "metadata": {},
   "source": [
    "# Generic code follows..."
   ]
  },
  {
   "cell_type": "code",
   "execution_count": 5,
   "id": "9787d5a3-0d45-4cc6-ac22-52f7a5f58dfc",
   "metadata": {},
   "outputs": [
    {
     "data": {
      "application/vnd.jupyter.widget-view+json": {
       "model_id": "af032e9042ff4eb9af1c08f26a560168",
       "version_major": 2,
       "version_minor": 0
      },
      "text/plain": [
       "VBox(children=(Text(value='(uninitialized)', description='Input 0', layout=Layout(width='20%')), Text(value='(…"
      ]
     },
     "metadata": {},
     "output_type": "display_data"
    }
   ],
   "source": [
    "voltage_fields=create_voltage_display()"
   ]
  },
  {
   "cell_type": "code",
   "execution_count": null,
   "id": "761171bc-cf7c-40e0-86a0-8713b8f02c84",
   "metadata": {},
   "outputs": [],
   "source": [
    "# Test loop\n",
    "while True:\n",
    "    get_event()\n",
    "    print(\"Trigger received\")\n",
    "    "
   ]
  },
  {
   "cell_type": "code",
   "execution_count": null,
   "id": "e03b38f4-491a-4fb9-991a-64add0626396",
   "metadata": {
    "jupyter": {
     "source_hidden": true
    },
    "tags": []
   },
   "outputs": [],
   "source": [
    "# Print out the raw values\n",
    "def print_raw():\n",
    "    print(\"Raw ADC values...\")\n",
    "    for i in range(4):\n",
    "        print(\"  Channel %d = 0x%X\"%(i,data[i].read(0)))\n"
   ]
  },
  {
   "cell_type": "code",
   "execution_count": null,
   "id": "4a5b39ea-bc8a-473e-8ded-f323e6078cee",
   "metadata": {},
   "outputs": [],
   "source": []
  }
 ],
 "metadata": {
  "kernelspec": {
   "display_name": "Python 3 (ipykernel)",
   "language": "python",
   "name": "python3"
  },
  "language_info": {
   "codemirror_mode": {
    "name": "ipython",
    "version": 3
   },
   "file_extension": ".py",
   "mimetype": "text/x-python",
   "name": "python",
   "nbconvert_exporter": "python",
   "pygments_lexer": "ipython3",
   "version": "3.10.4"
  }
 },
 "nbformat": 4,
 "nbformat_minor": 5
}
