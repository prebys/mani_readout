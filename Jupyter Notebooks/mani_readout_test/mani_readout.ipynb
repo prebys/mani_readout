{
 "cells": [
  {
   "cell_type": "markdown",
   "id": "9c49fac0-1e9c-4740-a5a7-2b7ad9ebd6bf",
   "metadata": {},
   "source": [
    "# Test of readout code for LTC2324 ADC Chip\n",
    "\n",
    "The overlay contains both the readout module for the ADC and a dummy module to generate simulated data.  The interface to the LTC2324 is through PMOD with the following pinout\n",
    "- PMODA[0]: external trigger input, active HI\n",
    "- PMODA[1]: cvt output, active LOW\n",
    "- PMODA[2]: sck output\n",
    "- PMODA[3]: clkout input\n",
    "- PMODA[4]: sdo serial data input\n",
    "\n",
    "The dummy ADC connections are on PMODB with pins corresponding to the same pins on PMODA\n",
    "- PMODB[1]: dummy_cvt input\n",
    "- PMODB[2]: dummy_sck input\n",
    "- PMODB[3]: dummy_clkout output\n",
    "- PMODB[4]: dummy_sdo serial data output\n",
    "\n",
    "If PMODB pins 1-4 are jumpered to the same pins on on PMOD, then the module should read back the data written to the dummy_ADC register defined below."
   ]
  },
  {
   "cell_type": "code",
   "execution_count": 11,
   "id": "0266fb3b-d9d7-48a4-a4e3-51efd9c2d281",
   "metadata": {},
   "outputs": [],
   "source": [
    "# Because of a bug/feature of the Pynq library, this is necessary when loading updated\n",
    "# versions of the same design.\n",
    "from pynq import PL\n",
    "PL.reset()"
   ]
  },
  {
   "cell_type": "code",
   "execution_count": 12,
   "id": "595e0896-5ffe-4ada-9d18-eb16160d99b6",
   "metadata": {},
   "outputs": [],
   "source": [
    "# load the overlay\n",
    "from pynq import Overlay\n",
    "pynq = Overlay(\"mani_readout.bit\")"
   ]
  },
  {
   "cell_type": "code",
   "execution_count": 13,
   "id": "c0e8692f-18a8-493a-b3c3-8eb888c26093",
   "metadata": {},
   "outputs": [
    {
     "name": "stdout",
     "output_type": "stream",
     "text": [
      "Help on Overlay in module pynq.overlay:\n",
      "\n",
      "<pynq.overlay.Overlay object>\n",
      "    Default documentation for overlay mani_readout.bit. The following\n",
      "    attributes are available on this overlay:\n",
      "    \n",
      "    IP Blocks\n",
      "    ----------\n",
      "    control              : pynq.lib.axigpio.AxiGPIO\n",
      "    data                 : pynq.lib.axigpio.AxiGPIO\n",
      "    state                : pynq.lib.axigpio.AxiGPIO\n",
      "    dummy_ADC            : pynq.lib.axigpio.AxiGPIO\n",
      "    timing               : pynq.lib.axigpio.AxiGPIO\n",
      "    processing_system7_0 : pynq.overlay.DefaultIP\n",
      "    \n",
      "    Hierarchies\n",
      "    -----------\n",
      "    LTC2324_dummy_0      : pynq.overlay.DefaultHierarchy\n",
      "    LTC2324_read_0       : pynq.overlay.DefaultHierarchy\n",
      "    \n",
      "    Interrupts\n",
      "    ----------\n",
      "    None\n",
      "    \n",
      "    GPIO Outputs\n",
      "    ------------\n",
      "    None\n",
      "    \n",
      "    Memories\n",
      "    ------------\n",
      "    PSDDR                : Memory\n",
      "\n"
     ]
    }
   ],
   "source": [
    "help(pynq)"
   ]
  },
  {
   "cell_type": "code",
   "execution_count": 14,
   "id": "781db8d7-3e77-431a-9257-011cacdbb0ad",
   "metadata": {},
   "outputs": [],
   "source": [
    "# Define the communication registes\n",
    "# Interface to LTC2324 readout module\n",
    "timing = pynq.timing   # timing control word\n",
    "                       # timing[7:4] = number of clock cyccles for cvt low before first valid bit\n",
    "                       # timing[3:0] = number of clock cycles for SCK_LO and SCK_HI\n",
    "control = pynq.control # control word\n",
    "                       # control[0] = arm\n",
    "                       # control[1] = soft trigger\n",
    "        \n",
    "state = pynq.state     # state of readount.  There will be data ready whan state==4\n",
    "data = pynq.data       # data register\n",
    "# Interface to dummy data generation module\n",
    "dummy_ADC = pynq.dummy_ADC  # Dummy data for the data simulation\n"
   ]
  },
  {
   "cell_type": "code",
   "execution_count": 50,
   "id": "b65e737f-54aa-4c06-9924-4914025d163e",
   "metadata": {},
   "outputs": [],
   "source": [
    "# Initial setup\n",
    "timing.write(0,0x86)       # 40 ns for everything\n",
    "dummy_ADC.write(0,0xAA55)  # dummy ADC data"
   ]
  },
  {
   "cell_type": "code",
   "execution_count": 51,
   "id": "8e41a18a-87cd-4ab7-bc18-fde25ba6e256",
   "metadata": {},
   "outputs": [
    {
     "name": "stdout",
     "output_type": "stream",
     "text": [
      "4\n"
     ]
    }
   ],
   "source": [
    "print(state.read(0))"
   ]
  },
  {
   "cell_type": "code",
   "execution_count": 52,
   "id": "47b8f3bd-6da5-467c-910a-2947fa12804b",
   "metadata": {},
   "outputs": [],
   "source": [
    "control.write(0,1)  # arm\n",
    "control.write(0,2)  # trigger"
   ]
  },
  {
   "cell_type": "code",
   "execution_count": 53,
   "id": "e69ab750-8ffd-4696-864f-438a855f5c60",
   "metadata": {},
   "outputs": [
    {
     "name": "stdout",
     "output_type": "stream",
     "text": [
      "aa55\n"
     ]
    }
   ],
   "source": [
    "print('%x'%data.read(0))"
   ]
  },
  {
   "cell_type": "code",
   "execution_count": 37,
   "id": "08e50c9b-14dd-4184-a463-e6c9a8b34cdb",
   "metadata": {},
   "outputs": [
    {
     "name": "stderr",
     "output_type": "stream",
     "text": [
      "\n",
      "KeyboardInterrupt\n",
      "\n"
     ]
    }
   ],
   "source": [
    "while True:\n",
    "    control.write(0,0)\n",
    "    control.write(0,1)\n",
    "    control.write(0,2)"
   ]
  },
  {
   "cell_type": "code",
   "execution_count": null,
   "id": "3cf3108f-a603-42dd-96fa-0f9dfb655c9e",
   "metadata": {},
   "outputs": [],
   "source": []
  },
  {
   "cell_type": "code",
   "execution_count": null,
   "id": "9ea7d82d-fa08-489b-adcf-22bfe2689d74",
   "metadata": {},
   "outputs": [],
   "source": []
  }
 ],
 "metadata": {
  "kernelspec": {
   "display_name": "Python 3 (ipykernel)",
   "language": "python",
   "name": "python3"
  },
  "language_info": {
   "codemirror_mode": {
    "name": "ipython",
    "version": 3
   },
   "file_extension": ".py",
   "mimetype": "text/x-python",
   "name": "python",
   "nbconvert_exporter": "python",
   "pygments_lexer": "ipython3",
   "version": "3.10.4"
  }
 },
 "nbformat": 4,
 "nbformat_minor": 5
}
